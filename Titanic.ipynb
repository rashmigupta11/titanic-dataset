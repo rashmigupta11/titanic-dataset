{
 "cells": [
  {
   "cell_type": "markdown",
   "id": "04796809",
   "metadata": {},
   "source": [
    "# Titanic Survival Prediction Project\n"
   ]
  },
  {
   "cell_type": "code",
   "execution_count": 3,
   "id": "57019e4a",
   "metadata": {},
   "outputs": [
    {
     "name": "stdout",
     "output_type": "stream",
     "text": [
      "   PassengerId  Survived  Pclass  \\\n",
      "0          892         0       3   \n",
      "1          893         1       3   \n",
      "2          894         0       2   \n",
      "3          895         0       3   \n",
      "4          896         1       3   \n",
      "\n",
      "                                           Name     Sex   Age  SibSp  Parch  \\\n",
      "0                              Kelly, Mr. James    male  34.5      0      0   \n",
      "1              Wilkes, Mrs. James (Ellen Needs)  female  47.0      1      0   \n",
      "2                     Myles, Mr. Thomas Francis    male  62.0      0      0   \n",
      "3                              Wirz, Mr. Albert    male  27.0      0      0   \n",
      "4  Hirvonen, Mrs. Alexander (Helga E Lindqvist)  female  22.0      1      1   \n",
      "\n",
      "    Ticket     Fare Cabin Embarked  \n",
      "0   330911   7.8292   NaN        Q  \n",
      "1   363272   7.0000   NaN        S  \n",
      "2   240276   9.6875   NaN        Q  \n",
      "3   315154   8.6625   NaN        S  \n",
      "4  3101298  12.2875   NaN        S  \n"
     ]
    }
   ],
   "source": [
    "import pandas as pd\n",
    "import numpy as np\n",
    "\n",
    "titanic_data = pd.read_csv('C:/Users/Dell/Downloads/data science/DS_projects_codsoft/titanic-sunday.csv')\n",
    "print(titanic_data.head())\n"
   ]
  },
  {
   "cell_type": "code",
   "execution_count": 6,
   "id": "7a33e1ab",
   "metadata": {},
   "outputs": [
    {
     "name": "stdout",
     "output_type": "stream",
     "text": [
      "PassengerId      0\n",
      "Survived         0\n",
      "Pclass           0\n",
      "Name             0\n",
      "Sex              0\n",
      "Age              0\n",
      "SibSp            0\n",
      "Parch            0\n",
      "Ticket           0\n",
      "Fare             0\n",
      "Cabin          327\n",
      "Embarked         0\n",
      "dtype: int64\n"
     ]
    }
   ],
   "source": [
    "# Check for missing values\n",
    "print(titanic_data.isnull().sum())"
   ]
  },
  {
   "cell_type": "code",
   "execution_count": 9,
   "id": "40c546b5",
   "metadata": {},
   "outputs": [
    {
     "name": "stdout",
     "output_type": "stream",
     "text": [
      "     PassengerId  Survived  Pclass  \\\n",
      "0            892         0       3   \n",
      "1            893         1       3   \n",
      "2            894         0       2   \n",
      "3            895         0       3   \n",
      "4            896         1       3   \n",
      "..           ...       ...     ...   \n",
      "413         1305         0       3   \n",
      "414         1306         1       1   \n",
      "415         1307         0       3   \n",
      "416         1308         0       3   \n",
      "417         1309         0       3   \n",
      "\n",
      "                                             Name     Sex   Age  SibSp  Parch  \\\n",
      "0                                Kelly, Mr. James    male  34.5      0      0   \n",
      "1                Wilkes, Mrs. James (Ellen Needs)  female  47.0      1      0   \n",
      "2                       Myles, Mr. Thomas Francis    male  62.0      0      0   \n",
      "3                                Wirz, Mr. Albert    male  27.0      0      0   \n",
      "4    Hirvonen, Mrs. Alexander (Helga E Lindqvist)  female  22.0      1      1   \n",
      "..                                            ...     ...   ...    ...    ...   \n",
      "413                            Spector, Mr. Woolf    male  27.0      0      0   \n",
      "414                  Oliva y Ocana, Dona. Fermina  female  39.0      0      0   \n",
      "415                  Saether, Mr. Simon Sivertsen    male  38.5      0      0   \n",
      "416                           Ware, Mr. Frederick    male  27.0      0      0   \n",
      "417                      Peter, Master. Michael J    male  27.0      1      1   \n",
      "\n",
      "                 Ticket      Fare Cabin Embarked  \n",
      "0                330911    7.8292   NaN        Q  \n",
      "1                363272    7.0000   NaN        S  \n",
      "2                240276    9.6875   NaN        Q  \n",
      "3                315154    8.6625   NaN        S  \n",
      "4               3101298   12.2875   NaN        S  \n",
      "..                  ...       ...   ...      ...  \n",
      "413           A.5. 3236    8.0500   NaN        S  \n",
      "414            PC 17758  108.9000  C105        C  \n",
      "415  SOTON/O.Q. 3101262    7.2500   NaN        S  \n",
      "416              359309    8.0500   NaN        S  \n",
      "417                2668   22.3583   NaN        C  \n",
      "\n",
      "[418 rows x 12 columns]\n"
     ]
    }
   ],
   "source": [
    "# Fill missing 'Fare' values with the median fare\n",
    "titanic_data['Fare'].fillna(titanic_data['Fare'].median(), inplace=True)\n",
    "\n",
    "# Drop rows with missing 'Embarked' values\n",
    "titanic_data.dropna(subset=['Embarked'], inplace=True)\n",
    "\n",
    "print(titanic_data)\n"
   ]
  },
  {
   "cell_type": "code",
   "execution_count": 11,
   "id": "a2b38b76",
   "metadata": {},
   "outputs": [
    {
     "data": {
      "text/plain": [
       "PassengerId      0\n",
       "Survived         0\n",
       "Pclass           0\n",
       "Name             0\n",
       "Sex              0\n",
       "Age              0\n",
       "SibSp            0\n",
       "Parch            0\n",
       "Ticket           0\n",
       "Fare             0\n",
       "Cabin          327\n",
       "Embarked         0\n",
       "dtype: int64"
      ]
     },
     "execution_count": 11,
     "metadata": {},
     "output_type": "execute_result"
    }
   ],
   "source": [
    "# Drop rows with missing 'Embarked' values\n",
    "titanic_data.dropna(subset=['Embarked'], inplace=True)\n",
    "titanic_data.isna().sum()"
   ]
  },
  {
   "cell_type": "code",
   "execution_count": 12,
   "id": "d45429ac",
   "metadata": {},
   "outputs": [
    {
     "name": "stdout",
     "output_type": "stream",
     "text": [
      "     Survived  Pclass  Sex   Age  SibSp  Parch      Fare  Embarked\n",
      "0           0       3    1  34.5      0      0    7.8292         2\n",
      "1           1       3    0  47.0      1      0    7.0000         0\n",
      "2           0       2    1  62.0      0      0    9.6875         2\n",
      "3           0       3    1  27.0      0      0    8.6625         0\n",
      "4           1       3    0  22.0      1      1   12.2875         0\n",
      "..        ...     ...  ...   ...    ...    ...       ...       ...\n",
      "413         0       3    1  27.0      0      0    8.0500         0\n",
      "414         1       1    0  39.0      0      0  108.9000         1\n",
      "415         0       3    1  38.5      0      0    7.2500         0\n",
      "416         0       3    1  27.0      0      0    8.0500         0\n",
      "417         0       3    1  27.0      1      1   22.3583         1\n",
      "\n",
      "[418 rows x 8 columns]\n"
     ]
    }
   ],
   "source": [
    "# Convert 'Sex' to numeric: male = 1, female = 0\n",
    "titanic_data['Sex'] = titanic_data['Sex'].map({'male': 1, 'female': 0})\n",
    "\n",
    "# Convert 'Embarked' to numeric: S = 0, C = 1, Q = 2\n",
    "titanic_data['Embarked'] = titanic_data['Embarked'].map({'S': 0, 'C': 1, 'Q': 2})\n",
    "\n",
    "# Drop unnecessary columns\n",
    "titanic_data.drop(columns=['PassengerId', 'Name', 'Ticket', 'Cabin'], inplace=True)\n",
    "print(titanic_data)"
   ]
  },
  {
   "cell_type": "code",
   "execution_count": 19,
   "id": "756ce53f",
   "metadata": {},
   "outputs": [],
   "source": [
    "def simple_prediction(row):\n",
    "    if row['Sex'] == 0:  # Predict survival for females\n",
    "        return 1\n",
    "    elif row['Pclass'] == 1:  # Predict survival for 1st class passengers\n",
    "        return 1\n",
    "    else:\n",
    "        return 0  # Predict non-survival for others"
   ]
  },
  {
   "cell_type": "code",
   "execution_count": 25,
   "id": "75443bce",
   "metadata": {},
   "outputs": [
    {
     "name": "stdout",
     "output_type": "stream",
     "text": [
      "\n",
      "Simple Prediction Model Accuracy: 86.36%\n"
     ]
    }
   ],
   "source": [
    "titanic_data['Prediction'] = titanic_data.apply(simple_prediction, axis=1)\n",
    "\n",
    "accuracy = np.mean(titanic_data['Prediction'] == titanic_data['Survived']) * 100\n",
    "print(f\"\\nSimple Prediction Model Accuracy: {accuracy:.2f}%\")"
   ]
  },
  {
   "cell_type": "code",
   "execution_count": 23,
   "id": "89544534",
   "metadata": {},
   "outputs": [
    {
     "name": "stdout",
     "output_type": "stream",
     "text": [
      "\n",
      "Survival Rate by Gender:\n",
      "Sex\n",
      "0    1.0\n",
      "1    0.0\n",
      "Name: Survived, dtype: float64\n",
      "\n",
      "Survival Rate by Class:\n",
      "Pclass\n",
      "1    0.467290\n",
      "2    0.322581\n",
      "3    0.330275\n",
      "Name: Survived, dtype: float64\n"
     ]
    }
   ],
   "source": [
    "print(\"\\nSurvival Rate by Gender:\")\n",
    "print(titanic_data.groupby('Sex')['Survived'].mean())\n",
    "\n",
    "print(\"\\nSurvival Rate by Class:\")\n",
    "print(titanic_data.groupby('Pclass')['Survived'].mean())"
   ]
  },
  {
   "cell_type": "code",
   "execution_count": 24,
   "id": "e0bb4fe3",
   "metadata": {},
   "outputs": [
    {
     "name": "stdout",
     "output_type": "stream",
     "text": [
      "\n",
      "Overall Survival Rate: 36.36%\n",
      "\n",
      "Average Age of Survivors: 29.73\n",
      "Average Age of Non-Survivors: 29.52\n"
     ]
    }
   ],
   "source": [
    "overall_survival_rate = np.mean(titanic_data['Survived']) * 100\n",
    "print(f\"\\nOverall Survival Rate: {overall_survival_rate:.2f}%\")\n",
    "\n",
    "survivors_age = titanic_data[titanic_data['Survived'] == 1]['Age'].mean()\n",
    "non_survivors_age = titanic_data[titanic_data['Survived'] == 0]['Age'].mean()\n",
    "\n",
    "print(f\"\\nAverage Age of Survivors: {survivors_age:.2f}\")\n",
    "print(f\"Average Age of Non-Survivors: {non_survivors_age:.2f}\")"
   ]
  }
 ],
 "metadata": {
  "kernelspec": {
   "display_name": "Python 3 (ipykernel)",
   "language": "python",
   "name": "python3"
  },
  "language_info": {
   "codemirror_mode": {
    "name": "ipython",
    "version": 3
   },
   "file_extension": ".py",
   "mimetype": "text/x-python",
   "name": "python",
   "nbconvert_exporter": "python",
   "pygments_lexer": "ipython3",
   "version": "3.11.5"
  }
 },
 "nbformat": 4,
 "nbformat_minor": 5
}
